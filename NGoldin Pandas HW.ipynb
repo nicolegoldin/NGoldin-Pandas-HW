{
 "cells": [
  {
   "cell_type": "markdown",
   "metadata": {},
   "source": [
    " #  A Whale off the Port(folio)\n",
    "\n",
    " In this assignment, you'll get to use what you've learned this week to evaluate the performance among various algorithmic, hedge, and mutual fund portfolios and compare them against the S&P 500."
   ]
  },
  {
   "cell_type": "code",
   "execution_count": 15,
   "metadata": {},
   "outputs": [],
   "source": [
    "import pandas as pd\n",
    "import numpy as np\n",
    "import datetime as dt\n",
    "import seaborn as sns\n",
    "import math\n",
    "from pathlib import Path\n",
    "from matplotlib import pyplot as plt\n",
    "%matplotlib inline"
   ]
  },
  {
   "cell_type": "markdown",
   "metadata": {},
   "source": [
    "# Data Cleaning\n",
    "\n",
    "In this section, you will need to read the CSV files into DataFrames and perform any necessary data cleaning steps. After cleaning, combine all DataFrames into a single DataFrame.\n",
    "\n",
    "Files:\n",
    "1. whale_returns.csv\n",
    "2. algo_returns.csv\n",
    "3. sp500_history.csv"
   ]
  },
  {
   "cell_type": "markdown",
   "metadata": {},
   "source": [
    "## Whale Returns\n",
    "\n",
    "Read the Whale Portfolio daily returns and clean the data"
   ]
  },
  {
   "cell_type": "code",
   "execution_count": 16,
   "metadata": {},
   "outputs": [],
   "source": [
    "# Reading whale returns\n",
    "whale_returns_csv = Path(\"Resources/whale_returns.csv\")\n",
    "whale_returns = pd.read_csv(whale_returns_csv, index_col = 'Date', parse_dates = True, infer_datetime_format=True)\n",
    "# YOUR CODE HERE"
   ]
  },
  {
   "cell_type": "code",
   "execution_count": 17,
   "metadata": {},
   "outputs": [
    {
     "data": {
      "text/plain": [
       "SOROS FUND MANAGEMENT LLC      1\n",
       "PAULSON & CO.INC.              1\n",
       "TIGER GLOBAL MANAGEMENT LLC    1\n",
       "BERKSHIRE HATHAWAY INC         1\n",
       "dtype: int64"
      ]
     },
     "execution_count": 17,
     "metadata": {},
     "output_type": "execute_result"
    }
   ],
   "source": [
    "# Count nulls\n",
    "whale_returns.isnull().sum()\n",
    "# YOUR CODE HERE"
   ]
  },
  {
   "cell_type": "code",
   "execution_count": 18,
   "metadata": {},
   "outputs": [
    {
     "data": {
      "text/plain": [
       "SOROS FUND MANAGEMENT LLC      0\n",
       "PAULSON & CO.INC.              0\n",
       "TIGER GLOBAL MANAGEMENT LLC    0\n",
       "BERKSHIRE HATHAWAY INC         0\n",
       "dtype: int64"
      ]
     },
     "execution_count": 18,
     "metadata": {},
     "output_type": "execute_result"
    }
   ],
   "source": [
    "# Drop nulls\n",
    "whale_returns.dropna(inplace=True)\n",
    "whale_returns.isnull().sum()\n",
    "# YOUR CODE HERE"
   ]
  },
  {
   "cell_type": "markdown",
   "metadata": {},
   "source": [
    "## Algorithmic Daily Returns\n",
    "\n",
    "Read the algorithmic daily returns and clean the data"
   ]
  },
  {
   "cell_type": "code",
   "execution_count": 19,
   "metadata": {},
   "outputs": [],
   "source": [
    "# Reading algorithmic returns\n",
    "algo_returns_csv = Path(\"Resources/algo_returns.csv\")\n",
    "algo_returns = pd.read_csv(algo_returns_csv, index_col = 'Date', parse_dates = True, infer_datetime_format = True)\n",
    "# YOUR CODE HERE"
   ]
  },
  {
   "cell_type": "code",
   "execution_count": 20,
   "metadata": {},
   "outputs": [
    {
     "data": {
      "text/plain": [
       "Algo 1    0\n",
       "Algo 2    6\n",
       "dtype: int64"
      ]
     },
     "execution_count": 20,
     "metadata": {},
     "output_type": "execute_result"
    }
   ],
   "source": [
    "# Count nulls\n",
    "algo_returns.isnull().sum()\n",
    "# YOUR CODE HERE"
   ]
  },
  {
   "cell_type": "code",
   "execution_count": 21,
   "metadata": {},
   "outputs": [
    {
     "data": {
      "text/plain": [
       "Algo 1    0\n",
       "Algo 2    0\n",
       "dtype: int64"
      ]
     },
     "execution_count": 21,
     "metadata": {},
     "output_type": "execute_result"
    }
   ],
   "source": [
    "# Drop nulls\n",
    "algo_returns.dropna(inplace=True)\n",
    "algo_returns.isnull().sum()\n",
    "# YOUR CODE HERE"
   ]
  },
  {
   "cell_type": "markdown",
   "metadata": {},
   "source": [
    "## S&P 500 Returns\n",
    "\n",
    "Read the S&P500 Historic Closing Prices and create a new daily returns DataFrame from the data. "
   ]
  },
  {
   "cell_type": "code",
   "execution_count": 22,
   "metadata": {},
   "outputs": [],
   "source": [
    "# Reading S&P 500 Closing Prices, sorting index\n",
    "sp500_history_csv = Path(\"Resources/sp500_history.csv\")\n",
    "sp500_history = pd.read_csv(sp500_history_csv, index_col = \"Date\", parse_dates = True, infer_datetime_format = True)\n",
    "# YOUR CODE HERE"
   ]
  },
  {
   "cell_type": "code",
   "execution_count": 23,
   "metadata": {},
   "outputs": [
    {
     "data": {
      "text/plain": [
       "Close    object\n",
       "dtype: object"
      ]
     },
     "execution_count": 23,
     "metadata": {},
     "output_type": "execute_result"
    }
   ],
   "source": [
    "# Check Data Types\n",
    "sp500_history.dtypes\n",
    "# YOUR CODE HERE"
   ]
  },
  {
   "cell_type": "code",
   "execution_count": 24,
   "metadata": {},
   "outputs": [],
   "source": [
    "# Fix Data Types\n",
    "sp500_history['Close'] = sp500_history['Close'].str.replace('$','')\n",
    "sp500_history['Close'] = sp500_history['Close'].astype(float)\n",
    "# YOUR CODE HERE"
   ]
  },
  {
   "cell_type": "code",
   "execution_count": 25,
   "metadata": {},
   "outputs": [
    {
     "data": {
      "text/html": [
       "<div>\n",
       "<style scoped>\n",
       "    .dataframe tbody tr th:only-of-type {\n",
       "        vertical-align: middle;\n",
       "    }\n",
       "\n",
       "    .dataframe tbody tr th {\n",
       "        vertical-align: top;\n",
       "    }\n",
       "\n",
       "    .dataframe thead th {\n",
       "        text-align: right;\n",
       "    }\n",
       "</style>\n",
       "<table border=\"1\" class=\"dataframe\">\n",
       "  <thead>\n",
       "    <tr style=\"text-align: right;\">\n",
       "      <th></th>\n",
       "      <th>Close</th>\n",
       "    </tr>\n",
       "    <tr>\n",
       "      <th>Date</th>\n",
       "      <th></th>\n",
       "    </tr>\n",
       "  </thead>\n",
       "  <tbody>\n",
       "    <tr>\n",
       "      <th>2019-04-23</th>\n",
       "      <td>NaN</td>\n",
       "    </tr>\n",
       "    <tr>\n",
       "      <th>2019-04-22</th>\n",
       "      <td>-0.008764</td>\n",
       "    </tr>\n",
       "    <tr>\n",
       "      <th>2019-04-18</th>\n",
       "      <td>-0.001011</td>\n",
       "    </tr>\n",
       "    <tr>\n",
       "      <th>2019-04-17</th>\n",
       "      <td>-0.001577</td>\n",
       "    </tr>\n",
       "    <tr>\n",
       "      <th>2019-04-16</th>\n",
       "      <td>0.002279</td>\n",
       "    </tr>\n",
       "  </tbody>\n",
       "</table>\n",
       "</div>"
      ],
      "text/plain": [
       "               Close\n",
       "Date                \n",
       "2019-04-23       NaN\n",
       "2019-04-22 -0.008764\n",
       "2019-04-18 -0.001011\n",
       "2019-04-17 -0.001577\n",
       "2019-04-16  0.002279"
      ]
     },
     "execution_count": 25,
     "metadata": {},
     "output_type": "execute_result"
    }
   ],
   "source": [
    "# Calculate Daily Returns\n",
    "daily_returns_sp500 = sp500_history.pct_change()\n",
    "daily_returns_sp500.head()\n",
    "# YOUR CODE HERE"
   ]
  },
  {
   "cell_type": "code",
   "execution_count": 26,
   "metadata": {},
   "outputs": [
    {
     "data": {
      "text/html": [
       "<div>\n",
       "<style scoped>\n",
       "    .dataframe tbody tr th:only-of-type {\n",
       "        vertical-align: middle;\n",
       "    }\n",
       "\n",
       "    .dataframe tbody tr th {\n",
       "        vertical-align: top;\n",
       "    }\n",
       "\n",
       "    .dataframe thead th {\n",
       "        text-align: right;\n",
       "    }\n",
       "</style>\n",
       "<table border=\"1\" class=\"dataframe\">\n",
       "  <thead>\n",
       "    <tr style=\"text-align: right;\">\n",
       "      <th></th>\n",
       "      <th>Close</th>\n",
       "    </tr>\n",
       "    <tr>\n",
       "      <th>Date</th>\n",
       "      <th></th>\n",
       "    </tr>\n",
       "  </thead>\n",
       "  <tbody>\n",
       "    <tr>\n",
       "      <th>2019-04-22</th>\n",
       "      <td>-0.008764</td>\n",
       "    </tr>\n",
       "    <tr>\n",
       "      <th>2019-04-18</th>\n",
       "      <td>-0.001011</td>\n",
       "    </tr>\n",
       "    <tr>\n",
       "      <th>2019-04-17</th>\n",
       "      <td>-0.001577</td>\n",
       "    </tr>\n",
       "    <tr>\n",
       "      <th>2019-04-16</th>\n",
       "      <td>0.002279</td>\n",
       "    </tr>\n",
       "    <tr>\n",
       "      <th>2019-04-15</th>\n",
       "      <td>-0.000509</td>\n",
       "    </tr>\n",
       "  </tbody>\n",
       "</table>\n",
       "</div>"
      ],
      "text/plain": [
       "               Close\n",
       "Date                \n",
       "2019-04-22 -0.008764\n",
       "2019-04-18 -0.001011\n",
       "2019-04-17 -0.001577\n",
       "2019-04-16  0.002279\n",
       "2019-04-15 -0.000509"
      ]
     },
     "execution_count": 26,
     "metadata": {},
     "output_type": "execute_result"
    }
   ],
   "source": [
    "# Drop nulls\n",
    "daily_returns_sp500.dropna(inplace=True)\n",
    "daily_returns_sp500.head()\n",
    "# YOUR CODE HERE"
   ]
  },
  {
   "cell_type": "code",
   "execution_count": 27,
   "metadata": {},
   "outputs": [
    {
     "data": {
      "text/html": [
       "<div>\n",
       "<style scoped>\n",
       "    .dataframe tbody tr th:only-of-type {\n",
       "        vertical-align: middle;\n",
       "    }\n",
       "\n",
       "    .dataframe tbody tr th {\n",
       "        vertical-align: top;\n",
       "    }\n",
       "\n",
       "    .dataframe thead th {\n",
       "        text-align: right;\n",
       "    }\n",
       "</style>\n",
       "<table border=\"1\" class=\"dataframe\">\n",
       "  <thead>\n",
       "    <tr style=\"text-align: right;\">\n",
       "      <th></th>\n",
       "      <th>Daily Returns SP500</th>\n",
       "    </tr>\n",
       "    <tr>\n",
       "      <th>Date</th>\n",
       "      <th></th>\n",
       "    </tr>\n",
       "  </thead>\n",
       "  <tbody>\n",
       "    <tr>\n",
       "      <th>2019-04-22</th>\n",
       "      <td>-0.008764</td>\n",
       "    </tr>\n",
       "    <tr>\n",
       "      <th>2019-04-18</th>\n",
       "      <td>-0.001011</td>\n",
       "    </tr>\n",
       "    <tr>\n",
       "      <th>2019-04-17</th>\n",
       "      <td>-0.001577</td>\n",
       "    </tr>\n",
       "    <tr>\n",
       "      <th>2019-04-16</th>\n",
       "      <td>0.002279</td>\n",
       "    </tr>\n",
       "    <tr>\n",
       "      <th>2019-04-15</th>\n",
       "      <td>-0.000509</td>\n",
       "    </tr>\n",
       "  </tbody>\n",
       "</table>\n",
       "</div>"
      ],
      "text/plain": [
       "            Daily Returns SP500\n",
       "Date                           \n",
       "2019-04-22            -0.008764\n",
       "2019-04-18            -0.001011\n",
       "2019-04-17            -0.001577\n",
       "2019-04-16             0.002279\n",
       "2019-04-15            -0.000509"
      ]
     },
     "execution_count": 27,
     "metadata": {},
     "output_type": "execute_result"
    }
   ],
   "source": [
    "# Rename Column\n",
    "daily_returns_sp500.columns= ['Daily Returns SP500']\n",
    "daily_returns_sp500.head()\n",
    "# YOUR CODE HERE"
   ]
  },
  {
   "cell_type": "markdown",
   "metadata": {},
   "source": [
    "## Combine Whale, Algorithmic, and S&P 500 Returns"
   ]
  },
  {
   "cell_type": "code",
   "execution_count": 28,
   "metadata": {},
   "outputs": [
    {
     "data": {
      "text/html": [
       "<div>\n",
       "<style scoped>\n",
       "    .dataframe tbody tr th:only-of-type {\n",
       "        vertical-align: middle;\n",
       "    }\n",
       "\n",
       "    .dataframe tbody tr th {\n",
       "        vertical-align: top;\n",
       "    }\n",
       "\n",
       "    .dataframe thead th {\n",
       "        text-align: right;\n",
       "    }\n",
       "</style>\n",
       "<table border=\"1\" class=\"dataframe\">\n",
       "  <thead>\n",
       "    <tr style=\"text-align: right;\">\n",
       "      <th></th>\n",
       "      <th>SOROS FUND MANAGEMENT LLC</th>\n",
       "      <th>PAULSON &amp; CO INC</th>\n",
       "      <th>TIGER GLOBAL MANAGEMENT LLC</th>\n",
       "      <th>BERKSHIRE HATHAWAY INC</th>\n",
       "      <th>Algo 1</th>\n",
       "      <th>Algo 2</th>\n",
       "      <th>Daily Returns SP500</th>\n",
       "    </tr>\n",
       "    <tr>\n",
       "      <th>Date</th>\n",
       "      <th></th>\n",
       "      <th></th>\n",
       "      <th></th>\n",
       "      <th></th>\n",
       "      <th></th>\n",
       "      <th></th>\n",
       "      <th></th>\n",
       "    </tr>\n",
       "  </thead>\n",
       "  <tbody>\n",
       "    <tr>\n",
       "      <th>2015-03-03</th>\n",
       "      <td>-0.001266</td>\n",
       "      <td>-0.004981</td>\n",
       "      <td>-0.000496</td>\n",
       "      <td>-0.006569</td>\n",
       "      <td>-0.001942</td>\n",
       "      <td>-0.000949</td>\n",
       "      <td>0.004408</td>\n",
       "    </tr>\n",
       "    <tr>\n",
       "      <th>2015-03-04</th>\n",
       "      <td>0.002230</td>\n",
       "      <td>0.003241</td>\n",
       "      <td>-0.002534</td>\n",
       "      <td>0.004213</td>\n",
       "      <td>-0.008589</td>\n",
       "      <td>0.002416</td>\n",
       "      <td>-0.001195</td>\n",
       "    </tr>\n",
       "    <tr>\n",
       "      <th>2015-03-05</th>\n",
       "      <td>0.004016</td>\n",
       "      <td>0.004076</td>\n",
       "      <td>0.002355</td>\n",
       "      <td>0.006726</td>\n",
       "      <td>-0.000955</td>\n",
       "      <td>0.004323</td>\n",
       "      <td>0.014378</td>\n",
       "    </tr>\n",
       "    <tr>\n",
       "      <th>2015-03-06</th>\n",
       "      <td>-0.007905</td>\n",
       "      <td>-0.003574</td>\n",
       "      <td>-0.008481</td>\n",
       "      <td>-0.013098</td>\n",
       "      <td>-0.004957</td>\n",
       "      <td>-0.011460</td>\n",
       "      <td>-0.003929</td>\n",
       "    </tr>\n",
       "    <tr>\n",
       "      <th>2015-03-09</th>\n",
       "      <td>0.000582</td>\n",
       "      <td>0.004225</td>\n",
       "      <td>0.005843</td>\n",
       "      <td>-0.001652</td>\n",
       "      <td>-0.005447</td>\n",
       "      <td>0.001303</td>\n",
       "      <td>0.017254</td>\n",
       "    </tr>\n",
       "  </tbody>\n",
       "</table>\n",
       "</div>"
      ],
      "text/plain": [
       "            SOROS FUND MANAGEMENT LLC  PAULSON & CO INC  \\\n",
       "Date                                                      \n",
       "2015-03-03                  -0.001266         -0.004981   \n",
       "2015-03-04                   0.002230          0.003241   \n",
       "2015-03-05                   0.004016          0.004076   \n",
       "2015-03-06                  -0.007905         -0.003574   \n",
       "2015-03-09                   0.000582          0.004225   \n",
       "\n",
       "            TIGER GLOBAL MANAGEMENT LLC  BERKSHIRE HATHAWAY INC    Algo 1  \\\n",
       "Date                                                                        \n",
       "2015-03-03                    -0.000496               -0.006569 -0.001942   \n",
       "2015-03-04                    -0.002534                0.004213 -0.008589   \n",
       "2015-03-05                     0.002355                0.006726 -0.000955   \n",
       "2015-03-06                    -0.008481               -0.013098 -0.004957   \n",
       "2015-03-09                     0.005843               -0.001652 -0.005447   \n",
       "\n",
       "              Algo 2  Daily Returns SP500  \n",
       "Date                                       \n",
       "2015-03-03 -0.000949             0.004408  \n",
       "2015-03-04  0.002416            -0.001195  \n",
       "2015-03-05  0.004323             0.014378  \n",
       "2015-03-06 -0.011460            -0.003929  \n",
       "2015-03-09  0.001303             0.017254  "
      ]
     },
     "execution_count": 28,
     "metadata": {},
     "output_type": "execute_result"
    }
   ],
   "source": [
    "# Concatenate all DataFrames into a single DataFrame\n",
    "whale_algo_sp500returns = pd.concat([whale_returns,algo_returns,daily_returns_sp500], axis = 'columns', join = 'inner')\n",
    "whale_algo_sp500returns.columns = ['SOROS FUND MANAGEMENT LLC','PAULSON & CO INC','TIGER GLOBAL MANAGEMENT LLC','BERKSHIRE HATHAWAY INC',\n",
    "                                 'Algo 1','Algo 2', 'Daily Returns SP500']\n",
    "whale_algo_sp500returns.head()\n",
    "# YOUR CODE HERE"
   ]
  },
  {
   "cell_type": "markdown",
   "metadata": {},
   "source": [
    "---"
   ]
  },
  {
   "cell_type": "markdown",
   "metadata": {},
   "source": [
    "# Portfolio Analysis\n",
    "\n",
    "In this section, you will calculate and visualize performance and risk metrics for the portfolios."
   ]
  },
  {
   "cell_type": "markdown",
   "metadata": {},
   "source": [
    "## Performance\n",
    "\n",
    "Calculate and Plot the daily returns and cumulative returns. "
   ]
  },
  {
   "cell_type": "code",
   "execution_count": 29,
   "metadata": {},
   "outputs": [
    {
     "data": {
      "text/plain": [
       "<matplotlib.axes._subplots.AxesSubplot at 0x1a01e34f608>"
      ]
     },
     "execution_count": 29,
     "metadata": {},
     "output_type": "execute_result"
    },
    {
     "data": {
      "image/png": "[encoded data removed]",
      "text/plain": [
       "<Figure size 432x288 with 1 Axes>"
      ]
     },
     "metadata": {
      "needs_background": "light"
     },
     "output_type": "display_data"
    }
   ],
   "source": [
    "# Plot daily returns\n",
    "daily_returns_sp500.plot()\n",
    "# YOUR CODE HERE"
   ]
  },
  {
   "cell_type": "code",
   "execution_count": 30,
   "metadata": {},
   "outputs": [
    {
     "data": {
      "text/plain": [
       "<matplotlib.axes._subplots.AxesSubplot at 0x1a01e83b808>"
      ]
     },
     "execution_count": 30,
     "metadata": {},
     "output_type": "execute_result"
    },
    {
     "data": {
      "image/png": "[encoded data removed]",
      "text/plain": [
       "<Figure size 432x288 with 1 Axes>"
      ]
     },
     "metadata": {
      "needs_background": "light"
     },
     "output_type": "display_data"
    }
   ],
   "source": [
    "# Plot cumulative returns\n",
    "cumulative_returns = (1+ daily_returns_sp500).cumprod() - 1\n",
    "cumulative_returns.columns = ['Cumulative Returns']\n",
    "cumulative_returns.plot()\n",
    "# YOUR CODE HERE"
   ]
  },
  {
   "cell_type": "code",
   "execution_count": 31,
   "metadata": {},
   "outputs": [
    {
     "data": {
      "text/html": [
       "<div>\n",
       "<style scoped>\n",
       "    .dataframe tbody tr th:only-of-type {\n",
       "        vertical-align: middle;\n",
       "    }\n",
       "\n",
       "    .dataframe tbody tr th {\n",
       "        vertical-align: top;\n",
       "    }\n",
       "\n",
       "    .dataframe thead th {\n",
       "        text-align: right;\n",
       "    }\n",
       "</style>\n",
       "<table border=\"1\" class=\"dataframe\">\n",
       "  <thead>\n",
       "    <tr style=\"text-align: right;\">\n",
       "      <th></th>\n",
       "      <th>Cumulative Returns</th>\n",
       "    </tr>\n",
       "    <tr>\n",
       "      <th>Date</th>\n",
       "      <th></th>\n",
       "    </tr>\n",
       "  </thead>\n",
       "  <tbody>\n",
       "    <tr>\n",
       "      <th>2019-04-22</th>\n",
       "      <td>-0.008764</td>\n",
       "    </tr>\n",
       "    <tr>\n",
       "      <th>2019-04-18</th>\n",
       "      <td>-0.009766</td>\n",
       "    </tr>\n",
       "    <tr>\n",
       "      <th>2019-04-17</th>\n",
       "      <td>-0.011327</td>\n",
       "    </tr>\n",
       "    <tr>\n",
       "      <th>2019-04-16</th>\n",
       "      <td>-0.009074</td>\n",
       "    </tr>\n",
       "    <tr>\n",
       "      <th>2019-04-15</th>\n",
       "      <td>-0.009578</td>\n",
       "    </tr>\n",
       "  </tbody>\n",
       "</table>\n",
       "</div>"
      ],
      "text/plain": [
       "            Cumulative Returns\n",
       "Date                          \n",
       "2019-04-22           -0.008764\n",
       "2019-04-18           -0.009766\n",
       "2019-04-17           -0.011327\n",
       "2019-04-16           -0.009074\n",
       "2019-04-15           -0.009578"
      ]
     },
     "execution_count": 31,
     "metadata": {},
     "output_type": "execute_result"
    }
   ],
   "source": [
    "cumulative_returns.head()"
   ]
  },
  {
   "cell_type": "markdown",
   "metadata": {},
   "source": [
    "---"
   ]
  },
  {
   "cell_type": "markdown",
   "metadata": {},
   "source": [
    "## Risk\n",
    "\n",
    "Determine the _risk_ of each portfolio:\n",
    "\n",
    "1. Create a box plot for each portfolio. \n",
    "2. Calculate the standard deviation for all portfolios\n",
    "4. Determine which portfolios are riskier than the S&P 500\n",
    "5. Calculate the Annualized Standard Deviation"
   ]
  },
  {
   "cell_type": "code",
   "execution_count": 32,
   "metadata": {},
   "outputs": [
    {
     "data": {
      "text/plain": [
       "<matplotlib.axes._subplots.AxesSubplot at 0x1a01f05d048>"
      ]
     },
     "execution_count": 32,
     "metadata": {},
     "output_type": "execute_result"
    },
    {
     "data": {
      "image/png": "[encoded data removed]",
      "text/plain": [
       "<Figure size 1440x720 with 1 Axes>"
      ]
     },
     "metadata": {
      "needs_background": "light"
     },
     "output_type": "display_data"
    }
   ],
   "source": [
    "# Box plot to visually show risk\n",
    "whale_algo_sp500returns.plot(kind='box',figsize=(20,10))\n",
    "# YOUR CODE HERE"
   ]
  },
  {
   "cell_type": "code",
   "execution_count": 33,
   "metadata": {},
   "outputs": [
    {
     "data": {
      "text/plain": [
       "SOROS FUND MANAGEMENT LLC      0.007896\n",
       "PAULSON & CO INC               0.007026\n",
       "TIGER GLOBAL MANAGEMENT LLC    0.010897\n",
       "BERKSHIRE HATHAWAY INC         0.012919\n",
       "Algo 1                         0.007623\n",
       "Algo 2                         0.008341\n",
       "Daily Returns SP500            0.008587\n",
       "dtype: float64"
      ]
     },
     "execution_count": 33,
     "metadata": {},
     "output_type": "execute_result"
    }
   ],
   "source": [
    "# Calculate the standard deviation for each portfolio. Which portfolios are riskier than the S&P 500?\n",
    "\n",
    "whale_algo_sp500returns_std = whale_algo_sp500returns.std()\n",
    "whale_algo_sp500returns_std"
   ]
  },
  {
   "cell_type": "code",
   "execution_count": 34,
   "metadata": {},
   "outputs": [
    {
     "ename": "SyntaxError",
     "evalue": "invalid syntax (<ipython-input-34-a7a1475b9fc7>, line 3)",
     "output_type": "error",
     "traceback": [
      "\u001b[1;36m  File \u001b[1;32m\"<ipython-input-34-a7a1475b9fc7>\"\u001b[1;36m, line \u001b[1;32m3\u001b[0m\n\u001b[1;33m    if column\u001b[0m\n\u001b[1;37m             ^\u001b[0m\n\u001b[1;31mSyntaxError\u001b[0m\u001b[1;31m:\u001b[0m invalid syntax\n"
     ]
    }
   ],
   "source": [
    "# Determine which portfolios are riskier than the S&P 500\n",
    "for column in daily_std_whale_algo_sp500returns:\n",
    "    if column\n",
    "    \n",
    "# YOUR CODE HERE"
   ]
  },
  {
   "cell_type": "code",
   "execution_count": 35,
   "metadata": {},
   "outputs": [
    {
     "data": {
      "text/plain": [
       "0.1363126488377286"
      ]
     },
     "execution_count": 35,
     "metadata": {},
     "output_type": "execute_result"
    }
   ],
   "source": [
    "# Calculate the annualized standard deviation (252 trading days)\n",
    "annualized_std = (whale_algo_sp500returns_std['Daily Returns SP500'])*(math.sqrt(252))\n",
    "annualized_std\n",
    "# YOUR CODE HERE"
   ]
  },
  {
   "cell_type": "markdown",
   "metadata": {},
   "source": [
    "---"
   ]
  },
  {
   "cell_type": "markdown",
   "metadata": {},
   "source": [
    "## Rolling Statistics\n",
    "\n",
    "Risk changes over time. Analyze the rolling statistics for Risk and Beta. \n",
    "\n",
    "1. Calculate and plot the rolling standard deviation for the S&PP 500 using a 21 day window\n",
    "2. Calculate the correlation between each stock to determine which portfolios may mimick the S&P 500\n",
    "2. Calculate and plot a 60 day Beta for Berkshire Hathaway Inc compared to the S&&P 500"
   ]
  },
  {
   "cell_type": "code",
   "execution_count": 36,
   "metadata": {},
   "outputs": [
    {
     "data": {
      "text/plain": [
       "<matplotlib.axes._subplots.AxesSubplot at 0x1a01dbcd9c8>"
      ]
     },
     "execution_count": 36,
     "metadata": {},
     "output_type": "execute_result"
    },
    {
     "data": {
      "image/png": "[encoded data removed]",
      "text/plain": [
       "<Figure size 432x288 with 1 Axes>"
      ]
     },
     "metadata": {
      "needs_background": "light"
     },
     "output_type": "display_data"
    }
   ],
   "source": [
    "# Calculate and plot the rolling standard deviation for the S&PP 500 using a 21 day window\n",
    "sp500_history.rolling(window=21).std().plot()\n",
    "# YOUR CODE HERE"
   ]
  },
  {
   "cell_type": "code",
   "execution_count": 37,
   "metadata": {},
   "outputs": [
    {
     "data": {
      "text/html": [
       "<div>\n",
       "<style scoped>\n",
       "    .dataframe tbody tr th:only-of-type {\n",
       "        vertical-align: middle;\n",
       "    }\n",
       "\n",
       "    .dataframe tbody tr th {\n",
       "        vertical-align: top;\n",
       "    }\n",
       "\n",
       "    .dataframe thead th {\n",
       "        text-align: right;\n",
       "    }\n",
       "</style>\n",
       "<table border=\"1\" class=\"dataframe\">\n",
       "  <thead>\n",
       "    <tr style=\"text-align: right;\">\n",
       "      <th></th>\n",
       "      <th>SOROS FUND MANAGEMENT LLC</th>\n",
       "      <th>PAULSON &amp; CO INC</th>\n",
       "      <th>TIGER GLOBAL MANAGEMENT LLC</th>\n",
       "      <th>BERKSHIRE HATHAWAY INC</th>\n",
       "      <th>Algo 1</th>\n",
       "      <th>Algo 2</th>\n",
       "      <th>Daily Returns SP500</th>\n",
       "    </tr>\n",
       "  </thead>\n",
       "  <tbody>\n",
       "    <tr>\n",
       "      <th>SOROS FUND MANAGEMENT LLC</th>\n",
       "      <td>1.000000</td>\n",
       "      <td>0.699823</td>\n",
       "      <td>0.561040</td>\n",
       "      <td>0.754157</td>\n",
       "      <td>0.320901</td>\n",
       "      <td>0.826730</td>\n",
       "      <td>0.000574</td>\n",
       "    </tr>\n",
       "    <tr>\n",
       "      <th>PAULSON &amp; CO INC</th>\n",
       "      <td>0.699823</td>\n",
       "      <td>1.000000</td>\n",
       "      <td>0.434308</td>\n",
       "      <td>0.545451</td>\n",
       "      <td>0.268631</td>\n",
       "      <td>0.678085</td>\n",
       "      <td>0.013549</td>\n",
       "    </tr>\n",
       "    <tr>\n",
       "      <th>TIGER GLOBAL MANAGEMENT LLC</th>\n",
       "      <td>0.561040</td>\n",
       "      <td>0.434308</td>\n",
       "      <td>1.000000</td>\n",
       "      <td>0.424125</td>\n",
       "      <td>0.164114</td>\n",
       "      <td>0.507160</td>\n",
       "      <td>-0.001505</td>\n",
       "    </tr>\n",
       "    <tr>\n",
       "      <th>BERKSHIRE HATHAWAY INC</th>\n",
       "      <td>0.754157</td>\n",
       "      <td>0.545451</td>\n",
       "      <td>0.424125</td>\n",
       "      <td>1.000000</td>\n",
       "      <td>0.291678</td>\n",
       "      <td>0.687756</td>\n",
       "      <td>-0.013856</td>\n",
       "    </tr>\n",
       "    <tr>\n",
       "      <th>Algo 1</th>\n",
       "      <td>0.320901</td>\n",
       "      <td>0.268631</td>\n",
       "      <td>0.164114</td>\n",
       "      <td>0.291678</td>\n",
       "      <td>1.000000</td>\n",
       "      <td>0.287852</td>\n",
       "      <td>-0.033963</td>\n",
       "    </tr>\n",
       "    <tr>\n",
       "      <th>Algo 2</th>\n",
       "      <td>0.826730</td>\n",
       "      <td>0.678085</td>\n",
       "      <td>0.507160</td>\n",
       "      <td>0.687756</td>\n",
       "      <td>0.287852</td>\n",
       "      <td>1.000000</td>\n",
       "      <td>-0.002192</td>\n",
       "    </tr>\n",
       "    <tr>\n",
       "      <th>Daily Returns SP500</th>\n",
       "      <td>0.000574</td>\n",
       "      <td>0.013549</td>\n",
       "      <td>-0.001505</td>\n",
       "      <td>-0.013856</td>\n",
       "      <td>-0.033963</td>\n",
       "      <td>-0.002192</td>\n",
       "      <td>1.000000</td>\n",
       "    </tr>\n",
       "  </tbody>\n",
       "</table>\n",
       "</div>"
      ],
      "text/plain": [
       "                             SOROS FUND MANAGEMENT LLC  PAULSON & CO INC  \\\n",
       "SOROS FUND MANAGEMENT LLC                     1.000000          0.699823   \n",
       "PAULSON & CO INC                              0.699823          1.000000   \n",
       "TIGER GLOBAL MANAGEMENT LLC                   0.561040          0.434308   \n",
       "BERKSHIRE HATHAWAY INC                        0.754157          0.545451   \n",
       "Algo 1                                        0.320901          0.268631   \n",
       "Algo 2                                        0.826730          0.678085   \n",
       "Daily Returns SP500                           0.000574          0.013549   \n",
       "\n",
       "                             TIGER GLOBAL MANAGEMENT LLC  \\\n",
       "SOROS FUND MANAGEMENT LLC                       0.561040   \n",
       "PAULSON & CO INC                                0.434308   \n",
       "TIGER GLOBAL MANAGEMENT LLC                     1.000000   \n",
       "BERKSHIRE HATHAWAY INC                          0.424125   \n",
       "Algo 1                                          0.164114   \n",
       "Algo 2                                          0.507160   \n",
       "Daily Returns SP500                            -0.001505   \n",
       "\n",
       "                             BERKSHIRE HATHAWAY INC    Algo 1    Algo 2  \\\n",
       "SOROS FUND MANAGEMENT LLC                  0.754157  0.320901  0.826730   \n",
       "PAULSON & CO INC                           0.545451  0.268631  0.678085   \n",
       "TIGER GLOBAL MANAGEMENT LLC                0.424125  0.164114  0.507160   \n",
       "BERKSHIRE HATHAWAY INC                     1.000000  0.291678  0.687756   \n",
       "Algo 1                                     0.291678  1.000000  0.287852   \n",
       "Algo 2                                     0.687756  0.287852  1.000000   \n",
       "Daily Returns SP500                       -0.013856 -0.033963 -0.002192   \n",
       "\n",
       "                             Daily Returns SP500  \n",
       "SOROS FUND MANAGEMENT LLC               0.000574  \n",
       "PAULSON & CO INC                        0.013549  \n",
       "TIGER GLOBAL MANAGEMENT LLC            -0.001505  \n",
       "BERKSHIRE HATHAWAY INC                 -0.013856  \n",
       "Algo 1                                 -0.033963  \n",
       "Algo 2                                 -0.002192  \n",
       "Daily Returns SP500                     1.000000  "
      ]
     },
     "execution_count": 37,
     "metadata": {},
     "output_type": "execute_result"
    }
   ],
   "source": [
    "# Correlation\n",
    "portfolio_correlation = whale_algo_sp500returns.corr()\n",
    "portfolio_correlation\n",
    "# YOUR CODE HERE"
   ]
  },
  {
   "cell_type": "code",
   "execution_count": 38,
   "metadata": {},
   "outputs": [
    {
     "name": "stdout",
     "output_type": "stream",
     "text": [
      "The Portfolio with the highest correlation to the S&P 500 is the Paulson & Co Inc Portfolio\n"
     ]
    }
   ],
   "source": [
    "print('The Portfolio with the highest correlation to the S&P 500 is the Paulson & Co Inc Portfolio')"
   ]
  },
  {
   "cell_type": "code",
   "execution_count": 39,
   "metadata": {},
   "outputs": [
    {
     "name": "stdout",
     "output_type": "stream",
     "text": [
      "The Beta for the Berkshire Hathaway Inc Portfolio is -0.009336829601298453\n"
     ]
    }
   ],
   "source": [
    "# Calculate Beta for a single portfolio compared to the total market (S&P 500)\n",
    "variance_bh = whale_returns['BERKSHIRE HATHAWAY INC'].var()\n",
    "covariance_bh = whale_returns['BERKSHIRE HATHAWAY INC'].cov(daily_returns_sp500['Daily Returns SP500'])\n",
    "bh_beta = covariance_bh / variance_bh\n",
    "print(f'The Beta for the Berkshire Hathaway Inc Portfolio is {bh_beta}')\n",
    "# YOUR CODE HERE"
   ]
  },
  {
   "cell_type": "markdown",
   "metadata": {},
   "source": [
    "### Challenge: Exponentially Weighted Average \n",
    "\n",
    "An alternative way to calculate a rollwing window is to take the exponentially weighted moving average. This is like a moving window average, but it assigns greater importance to more recent observations. Try calculating the `ewm` with a 21 day half-life."
   ]
  },
  {
   "cell_type": "code",
   "execution_count": 40,
   "metadata": {},
   "outputs": [],
   "source": [
    "# (OPTIONAL) YOUR CODE HERE"
   ]
  },
  {
   "cell_type": "markdown",
   "metadata": {},
   "source": [
    "---"
   ]
  },
  {
   "cell_type": "markdown",
   "metadata": {},
   "source": [
    "## Sharpe Ratios\n",
    "In reality, investment managers and thier institutional investors look at the ratio of return-to-risk, and not just returns alone. (After all, if you could invest in one of two portfolios, each offered the same 10% return, yet one offered lower risk, you'd take that one, right?)\n",
    "\n",
    "Calculate and plot the annualized Sharpe ratios for all portfolios to determine which portfolio has the best performance"
   ]
  },
  {
   "cell_type": "code",
   "execution_count": 41,
   "metadata": {},
   "outputs": [],
   "source": [
    "# Annualzied Sharpe Ratios\n",
    "sharpe_ratio_soros= (252**0.5)*(whale_algo_sp500returns['SOROS FUND MANAGEMENT LLC'].mean()/whale_algo_sp500returns_std['SOROS FUND MANAGEMENT LLC'])\n",
    "sharpe_ratio_paulson= (252**0.5)*(whale_algo_sp500returns['PAULSON & CO INC'].mean()/whale_algo_sp500returns_std['PAULSON & CO INC'])\n",
    "sharpe_ratio_tiger= (252**0.5)*(whale_algo_sp500returns['TIGER GLOBAL MANAGEMENT LLC'].mean()/whale_algo_sp500returns_std['TIGER GLOBAL MANAGEMENT LLC'])\n",
    "sharpe_ratio_berkshire= (252**0.5)*(whale_algo_sp500returns['BERKSHIRE HATHAWAY INC'].mean()/whale_algo_sp500returns_std['BERKSHIRE HATHAWAY INC'])\n",
    "sharpe_ratio_algo1= (252**0.5)*(whale_algo_sp500returns['Algo 1'].mean()/whale_algo_sp500returns_std['Algo 1'])\n",
    "sharpe_ratio_algo2= (252**0.5)*(whale_algo_sp500returns['Algo 2'].mean()/whale_algo_sp500returns_std['Algo 2'])\n",
    "# YOUR CODE HERE"
   ]
  },
  {
   "cell_type": "markdown",
   "metadata": {},
   "source": [
    " plot() these sharpe ratios using a barplot.\n",
    " On the basis of this performance metric, do our algo strategies outperform both 'the market' and the whales?"
   ]
  },
  {
   "cell_type": "code",
   "execution_count": 42,
   "metadata": {},
   "outputs": [
    {
     "data": {
      "text/plain": [
       "<BarContainer object of 6 artists>"
      ]
     },
     "execution_count": 42,
     "metadata": {},
     "output_type": "execute_result"
    },
    {
     "data": {
      "image/png": "[encoded data removed]",
      "text/plain": [
       "<Figure size 432x288 with 1 Axes>"
      ]
     },
     "metadata": {
      "needs_background": "light"
     },
     "output_type": "display_data"
    }
   ],
   "source": [
    "# Visualize the sharpe ratios as a bar plot\n",
    "plt.bar(['SOROS FUND MANAGEMENT LLC','PAULSON & CO INC','TIGER GLOBAL MANAGEMENT LLC','BERKSHIRE HATHAWAY INC','Algo 1','Algo 2'],\n",
    "        [sharpe_ratio_soros, sharpe_ratio_paulson, sharpe_ratio_tiger,sharpe_ratio_berkshire, sharpe_ratio_algo1, sharpe_ratio_algo2], \n",
    "        width = 0.9) \n",
    "\n",
    "#How do I fix the fig size?\n",
    "\n",
    "# YOUR CODE HERE"
   ]
  },
  {
   "cell_type": "markdown",
   "metadata": {},
   "source": [
    "---"
   ]
  },
  {
   "cell_type": "markdown",
   "metadata": {},
   "source": [
    "# Portfolio Returns\n",
    "\n",
    "In this section, you will build your own portfolio of stocks, calculate the returns, and compare the results to the Whale Portfolios and the S&P 500. \n",
    "\n",
    "1. Choose 3-5 custom stocks with at last 1 year's worth of historic prices and create a DataFrame of the closing prices and dates for each stock.\n",
    "2. Calculate the weighted returns for the portfolio assuming an equal number of shares for each stock\n",
    "3. Join your portfolio returns to the DataFrame that contains all of the portfolio returns\n",
    "4. Re-run the performance and risk analysis with your portfolio to see how it compares to the others\n",
    "5. Include correlation analysis to determine which stocks (if any) are correlated"
   ]
  },
  {
   "cell_type": "markdown",
   "metadata": {},
   "source": [
    "## Choose 3-5 custom stocks with at last 1 year's worth of historic prices and create a DataFrame of the closing prices and dates for each stock."
   ]
  },
  {
   "cell_type": "code",
   "execution_count": 106,
   "metadata": {},
   "outputs": [],
   "source": [
    "# Read the first stock\n",
    "airbus_historical_csv = Path(\"mystocks/airbus_historical.csv\")\n",
    "airbus_historical = pd.read_csv(airbus_historical_csv, index_col = 'Date', parse_dates = True, infer_datetime_format=True)\n",
    "airbus_historical.columns = ['Airbus Close','Volume','Open','High','Low']\n",
    "airbus_historical.drop(columns=['Volume','Open','High','Low'],inplace=True)\n",
    "# YOUR CODE HERE"
   ]
  },
  {
   "cell_type": "code",
   "execution_count": 105,
   "metadata": {},
   "outputs": [],
   "source": [
    "# Read the second stock\n",
    "raytheon_historical_csv = Path(\"mystocks/raytheon_historical.csv\")\n",
    "raytheon_historical = pd.read_csv(raytheon_historical_csv, index_col = 'Date', parse_dates = True, infer_datetime_format=True)\n",
    "raytheon_historical.columns = ['Raytheon Close','Volume','Open','High','Low']\n",
    "raytheon_historical.drop(columns=['Volume','Open','High','Low'], inplace=True)\n",
    "# YOUR CODE HERE"
   ]
  },
  {
   "cell_type": "code",
   "execution_count": 104,
   "metadata": {},
   "outputs": [],
   "source": [
    "# Read the third stock\n",
    "williamsonoma_historical_csv = Path(\"mystocks/williamsonoma_historical.csv\")\n",
    "williamsonoma_historical = pd.read_csv(williamsonoma_historical_csv, index_col = 'Date', parse_dates = True, infer_datetime_format=True)\n",
    "williamsonoma_historical.columns = ['William Sonoma Close','Volume','Open','High','Low']\n",
    "williamsonoma_historical.drop(columns=['Volume','Open','High','Low'],inplace=True)\n",
    "# YOUR CODE HERE"
   ]
  },
  {
   "cell_type": "code",
   "execution_count": 107,
   "metadata": {},
   "outputs": [
    {
     "data": {
      "text/html": [
       "<div>\n",
       "<style scoped>\n",
       "    .dataframe tbody tr th:only-of-type {\n",
       "        vertical-align: middle;\n",
       "    }\n",
       "\n",
       "    .dataframe tbody tr th {\n",
       "        vertical-align: top;\n",
       "    }\n",
       "\n",
       "    .dataframe thead th {\n",
       "        text-align: right;\n",
       "    }\n",
       "</style>\n",
       "<table border=\"1\" class=\"dataframe\">\n",
       "  <thead>\n",
       "    <tr style=\"text-align: right;\">\n",
       "      <th></th>\n",
       "      <th>Airbus Close</th>\n",
       "      <th>Raytheon Close</th>\n",
       "      <th>William Sonoma Close</th>\n",
       "    </tr>\n",
       "    <tr>\n",
       "      <th>Date</th>\n",
       "      <th></th>\n",
       "      <th></th>\n",
       "      <th></th>\n",
       "    </tr>\n",
       "  </thead>\n",
       "  <tbody>\n",
       "    <tr>\n",
       "      <th>2020-01-17</th>\n",
       "      <td>$152.41</td>\n",
       "      <td>$231.34</td>\n",
       "      <td>$76.59</td>\n",
       "    </tr>\n",
       "    <tr>\n",
       "      <th>2020-01-16</th>\n",
       "      <td>$149.10</td>\n",
       "      <td>$232.31</td>\n",
       "      <td>$76.52</td>\n",
       "    </tr>\n",
       "    <tr>\n",
       "      <th>2020-01-15</th>\n",
       "      <td>$149.81</td>\n",
       "      <td>$229.41</td>\n",
       "      <td>$75.57</td>\n",
       "    </tr>\n",
       "    <tr>\n",
       "      <th>2020-01-14</th>\n",
       "      <td>$150.45</td>\n",
       "      <td>$227.40</td>\n",
       "      <td>$76.01</td>\n",
       "    </tr>\n",
       "    <tr>\n",
       "      <th>2020-01-13</th>\n",
       "      <td>$150.31</td>\n",
       "      <td>$227.15</td>\n",
       "      <td>$75.52</td>\n",
       "    </tr>\n",
       "  </tbody>\n",
       "</table>\n",
       "</div>"
      ],
      "text/plain": [
       "           Airbus Close Raytheon Close William Sonoma Close\n",
       "Date                                                       \n",
       "2020-01-17     $152.41        $231.34               $76.59 \n",
       "2020-01-16     $149.10        $232.31               $76.52 \n",
       "2020-01-15     $149.81        $229.41               $75.57 \n",
       "2020-01-14     $150.45        $227.40               $76.01 \n",
       "2020-01-13     $150.31        $227.15               $75.52 "
      ]
     },
     "execution_count": 107,
     "metadata": {},
     "output_type": "execute_result"
    }
   ],
   "source": [
    "# Concatenate all stocks into a single DataFrame\n",
    "myportfolio = pd.concat([airbus_historical,raytheon_historical,williamsonoma_historical], axis = 'columns', join = 'inner')\n",
    "myportfolio.head()\n",
    "# YOUR CODE HERE"
   ]
  },
  {
   "cell_type": "code",
   "execution_count": null,
   "metadata": {},
   "outputs": [],
   "source": [
    "# Reset the index\n",
    "# my index was set from the begining\n",
    "# YOUR CODE HERE"
   ]
  },
  {
   "cell_type": "code",
   "execution_count": 108,
   "metadata": {},
   "outputs": [
    {
     "data": {
      "text/html": [
       "<div>\n",
       "<style scoped>\n",
       "    .dataframe tbody tr th:only-of-type {\n",
       "        vertical-align: middle;\n",
       "    }\n",
       "\n",
       "    .dataframe tbody tr th {\n",
       "        vertical-align: top;\n",
       "    }\n",
       "\n",
       "    .dataframe thead th {\n",
       "        text-align: right;\n",
       "    }\n",
       "</style>\n",
       "<table border=\"1\" class=\"dataframe\">\n",
       "  <thead>\n",
       "    <tr style=\"text-align: right;\">\n",
       "      <th></th>\n",
       "      <th>Airbus Close</th>\n",
       "      <th>Raytheon Close</th>\n",
       "      <th>William Sonoma Close</th>\n",
       "    </tr>\n",
       "    <tr>\n",
       "      <th>Date</th>\n",
       "      <th></th>\n",
       "      <th></th>\n",
       "      <th></th>\n",
       "    </tr>\n",
       "  </thead>\n",
       "  <tbody>\n",
       "    <tr>\n",
       "      <th>2020-01-17</th>\n",
       "      <td>152.41</td>\n",
       "      <td>231.34</td>\n",
       "      <td>76.59</td>\n",
       "    </tr>\n",
       "    <tr>\n",
       "      <th>2020-01-16</th>\n",
       "      <td>149.10</td>\n",
       "      <td>232.31</td>\n",
       "      <td>76.52</td>\n",
       "    </tr>\n",
       "    <tr>\n",
       "      <th>2020-01-15</th>\n",
       "      <td>149.81</td>\n",
       "      <td>229.41</td>\n",
       "      <td>75.57</td>\n",
       "    </tr>\n",
       "    <tr>\n",
       "      <th>2020-01-14</th>\n",
       "      <td>150.45</td>\n",
       "      <td>227.40</td>\n",
       "      <td>76.01</td>\n",
       "    </tr>\n",
       "    <tr>\n",
       "      <th>2020-01-13</th>\n",
       "      <td>150.31</td>\n",
       "      <td>227.15</td>\n",
       "      <td>75.52</td>\n",
       "    </tr>\n",
       "  </tbody>\n",
       "</table>\n",
       "</div>"
      ],
      "text/plain": [
       "           Airbus Close Raytheon Close William Sonoma Close\n",
       "Date                                                       \n",
       "2020-01-17      152.41         231.34                76.59 \n",
       "2020-01-16      149.10         232.31                76.52 \n",
       "2020-01-15      149.81         229.41                75.57 \n",
       "2020-01-14      150.45         227.40                76.01 \n",
       "2020-01-13      150.31         227.15                75.52 "
      ]
     },
     "execution_count": 108,
     "metadata": {},
     "output_type": "execute_result"
    }
   ],
   "source": [
    "myportfolio['Airbus Close'] = myportfolio['Airbus Close'].str.replace('$','')\n",
    "myportfolio['Raytheon Close'] = myportfolio['Raytheon Close'].str.replace('$','')\n",
    "myportfolio['William Sonoma Close'] = myportfolio['William Sonoma Close'].str.replace('$','')\n",
    "myportfolio.head()"
   ]
  },
  {
   "cell_type": "code",
   "execution_count": 113,
   "metadata": {},
   "outputs": [],
   "source": [
    "myportfolio['Airbus Close'] = myportfolio['Airbus Close'].astype(float)\n",
    "myportfolio['Raytheon Close'] = myportfolio['Raytheon Close'].astype(float)\n",
    "myportfolio['William Sonoma Close'] = myportfolio['William Sonoma Close'].astype(float)"
   ]
  },
  {
   "cell_type": "code",
   "execution_count": 114,
   "metadata": {},
   "outputs": [
    {
     "data": {
      "text/plain": [
       "Airbus Close            0\n",
       "Raytheon Close          0\n",
       "William Sonoma Close    0\n",
       "dtype: int64"
      ]
     },
     "execution_count": 114,
     "metadata": {},
     "output_type": "execute_result"
    }
   ],
   "source": [
    "# Drop Nulls\n",
    "myportfolio.dropna(inplace=True)\n",
    "myportfolio.isnull().sum()\n",
    "# YOUR CODE HERE"
   ]
  },
  {
   "cell_type": "markdown",
   "metadata": {},
   "source": [
    "## Calculate the weighted returns for the portfolio assuming an equal number of shares for each stock"
   ]
  },
  {
   "cell_type": "code",
   "execution_count": 117,
   "metadata": {},
   "outputs": [
    {
     "data": {
      "text/html": [
       "<div>\n",
       "<style scoped>\n",
       "    .dataframe tbody tr th:only-of-type {\n",
       "        vertical-align: middle;\n",
       "    }\n",
       "\n",
       "    .dataframe tbody tr th {\n",
       "        vertical-align: top;\n",
       "    }\n",
       "\n",
       "    .dataframe thead th {\n",
       "        text-align: right;\n",
       "    }\n",
       "</style>\n",
       "<table border=\"1\" class=\"dataframe\">\n",
       "  <thead>\n",
       "    <tr style=\"text-align: right;\">\n",
       "      <th></th>\n",
       "      <th>Airbus Close</th>\n",
       "      <th>Raytheon Close</th>\n",
       "      <th>William Sonoma Close</th>\n",
       "    </tr>\n",
       "    <tr>\n",
       "      <th>Date</th>\n",
       "      <th></th>\n",
       "      <th></th>\n",
       "      <th></th>\n",
       "    </tr>\n",
       "  </thead>\n",
       "  <tbody>\n",
       "    <tr>\n",
       "      <th>2020-01-17</th>\n",
       "      <td>NaN</td>\n",
       "      <td>NaN</td>\n",
       "      <td>NaN</td>\n",
       "    </tr>\n",
       "    <tr>\n",
       "      <th>2020-01-16</th>\n",
       "      <td>-0.021718</td>\n",
       "      <td>0.004193</td>\n",
       "      <td>-0.000914</td>\n",
       "    </tr>\n",
       "    <tr>\n",
       "      <th>2020-01-15</th>\n",
       "      <td>0.004762</td>\n",
       "      <td>-0.012483</td>\n",
       "      <td>-0.012415</td>\n",
       "    </tr>\n",
       "    <tr>\n",
       "      <th>2020-01-14</th>\n",
       "      <td>0.004272</td>\n",
       "      <td>-0.008762</td>\n",
       "      <td>0.005822</td>\n",
       "    </tr>\n",
       "    <tr>\n",
       "      <th>2020-01-13</th>\n",
       "      <td>-0.000931</td>\n",
       "      <td>-0.001099</td>\n",
       "      <td>-0.006447</td>\n",
       "    </tr>\n",
       "  </tbody>\n",
       "</table>\n",
       "</div>"
      ],
      "text/plain": [
       "            Airbus Close  Raytheon Close  William Sonoma Close\n",
       "Date                                                          \n",
       "2020-01-17           NaN             NaN                   NaN\n",
       "2020-01-16     -0.021718        0.004193             -0.000914\n",
       "2020-01-15      0.004762       -0.012483             -0.012415\n",
       "2020-01-14      0.004272       -0.008762              0.005822\n",
       "2020-01-13     -0.000931       -0.001099             -0.006447"
      ]
     },
     "execution_count": 117,
     "metadata": {},
     "output_type": "execute_result"
    }
   ],
   "source": [
    "# Calculate daily returnes for the portfolio\n",
    "daily_returns_myportfolio = myportfolio.pct_change()\n",
    "daily_returns_myportfolio.head()"
   ]
  },
  {
   "cell_type": "code",
   "execution_count": 131,
   "metadata": {},
   "outputs": [
    {
     "data": {
      "text/plain": [
       "Date\n",
       "2020-01-16   -0.006146\n",
       "2020-01-15   -0.006712\n",
       "2020-01-14    0.000444\n",
       "2020-01-13   -0.002825\n",
       "2020-01-10   -0.007745\n",
       "dtype: float64"
      ]
     },
     "execution_count": 131,
     "metadata": {},
     "output_type": "execute_result"
    }
   ],
   "source": [
    "# Calculate weighted portfolio returns\n",
    "weights = [1/3, 1/3, 1/3]\n",
    "myportfolio_weighted_returns = daily_returns_myportfolio.dot(weights)\n",
    "myportfolio_weighted_returns.dropna(inplace=True)\n",
    "myportfolio_weighted_returns.head()\n",
    "# YOUR CODE HERE"
   ]
  },
  {
   "cell_type": "markdown",
   "metadata": {},
   "source": [
    "## Join your portfolio returns to the DataFrame that contains all of the portfolio returns"
   ]
  },
  {
   "cell_type": "code",
   "execution_count": 132,
   "metadata": {},
   "outputs": [
    {
     "data": {
      "text/html": [
       "<div>\n",
       "<style scoped>\n",
       "    .dataframe tbody tr th:only-of-type {\n",
       "        vertical-align: middle;\n",
       "    }\n",
       "\n",
       "    .dataframe tbody tr th {\n",
       "        vertical-align: top;\n",
       "    }\n",
       "\n",
       "    .dataframe thead th {\n",
       "        text-align: right;\n",
       "    }\n",
       "</style>\n",
       "<table border=\"1\" class=\"dataframe\">\n",
       "  <thead>\n",
       "    <tr style=\"text-align: right;\">\n",
       "      <th></th>\n",
       "      <th>SOROS FUND MANAGEMENT LLC</th>\n",
       "      <th>PAULSON &amp; CO INC</th>\n",
       "      <th>TIGER GLOBAL MANAGEMENT LLC</th>\n",
       "      <th>BERKSHIRE HATHAWAY INC</th>\n",
       "      <th>Algo 1</th>\n",
       "      <th>Algo 2</th>\n",
       "      <th>Daily Returns SP500</th>\n",
       "      <th>My Portfolio</th>\n",
       "    </tr>\n",
       "    <tr>\n",
       "      <th>Date</th>\n",
       "      <th></th>\n",
       "      <th></th>\n",
       "      <th></th>\n",
       "      <th></th>\n",
       "      <th></th>\n",
       "      <th></th>\n",
       "      <th></th>\n",
       "      <th></th>\n",
       "    </tr>\n",
       "  </thead>\n",
       "  <tbody>\n",
       "    <tr>\n",
       "      <th>2019-01-22</th>\n",
       "      <td>-0.014371</td>\n",
       "      <td>-0.011830</td>\n",
       "      <td>-0.008774</td>\n",
       "      <td>-0.022136</td>\n",
       "      <td>0.004236</td>\n",
       "      <td>-0.011539</td>\n",
       "      <td>-0.002198</td>\n",
       "      <td>0.004531</td>\n",
       "    </tr>\n",
       "    <tr>\n",
       "      <th>2019-01-23</th>\n",
       "      <td>-0.000520</td>\n",
       "      <td>0.000063</td>\n",
       "      <td>-0.000240</td>\n",
       "      <td>0.001897</td>\n",
       "      <td>0.009548</td>\n",
       "      <td>-0.002804</td>\n",
       "      <td>-0.001374</td>\n",
       "      <td>-0.010008</td>\n",
       "    </tr>\n",
       "    <tr>\n",
       "      <th>2019-01-24</th>\n",
       "      <td>0.005937</td>\n",
       "      <td>0.007146</td>\n",
       "      <td>-0.003748</td>\n",
       "      <td>0.012176</td>\n",
       "      <td>-0.002755</td>\n",
       "      <td>0.005871</td>\n",
       "      <td>-0.008417</td>\n",
       "      <td>-0.016527</td>\n",
       "    </tr>\n",
       "    <tr>\n",
       "      <th>2019-01-25</th>\n",
       "      <td>0.012897</td>\n",
       "      <td>0.010722</td>\n",
       "      <td>0.007476</td>\n",
       "      <td>0.021190</td>\n",
       "      <td>0.000384</td>\n",
       "      <td>0.010659</td>\n",
       "      <td>0.007909</td>\n",
       "      <td>0.003482</td>\n",
       "    </tr>\n",
       "    <tr>\n",
       "      <th>2019-01-28</th>\n",
       "      <td>-0.000713</td>\n",
       "      <td>-0.003858</td>\n",
       "      <td>0.002047</td>\n",
       "      <td>-0.005807</td>\n",
       "      <td>-0.009026</td>\n",
       "      <td>-0.003805</td>\n",
       "      <td>0.001458</td>\n",
       "      <td>-0.007302</td>\n",
       "    </tr>\n",
       "  </tbody>\n",
       "</table>\n",
       "</div>"
      ],
      "text/plain": [
       "            SOROS FUND MANAGEMENT LLC  PAULSON & CO INC  \\\n",
       "Date                                                      \n",
       "2019-01-22                  -0.014371         -0.011830   \n",
       "2019-01-23                  -0.000520          0.000063   \n",
       "2019-01-24                   0.005937          0.007146   \n",
       "2019-01-25                   0.012897          0.010722   \n",
       "2019-01-28                  -0.000713         -0.003858   \n",
       "\n",
       "            TIGER GLOBAL MANAGEMENT LLC  BERKSHIRE HATHAWAY INC    Algo 1  \\\n",
       "Date                                                                        \n",
       "2019-01-22                    -0.008774               -0.022136  0.004236   \n",
       "2019-01-23                    -0.000240                0.001897  0.009548   \n",
       "2019-01-24                    -0.003748                0.012176 -0.002755   \n",
       "2019-01-25                     0.007476                0.021190  0.000384   \n",
       "2019-01-28                     0.002047               -0.005807 -0.009026   \n",
       "\n",
       "              Algo 2  Daily Returns SP500  My Portfolio  \n",
       "Date                                                     \n",
       "2019-01-22 -0.011539            -0.002198      0.004531  \n",
       "2019-01-23 -0.002804            -0.001374     -0.010008  \n",
       "2019-01-24  0.005871            -0.008417     -0.016527  \n",
       "2019-01-25  0.010659             0.007909      0.003482  \n",
       "2019-01-28 -0.003805             0.001458     -0.007302  "
      ]
     },
     "execution_count": 132,
     "metadata": {},
     "output_type": "execute_result"
    }
   ],
   "source": [
    "# YOUR CODE HERE\n",
    "allportfolios = pd.concat([whale_algo_sp500returns, myportfolio_weighted_returns], axis = 'columns', join= 'inner')\n",
    "allportfolios.columns = ['SOROS FUND MANAGEMENT LLC','PAULSON & CO INC','TIGER GLOBAL MANAGEMENT LLC','BERKSHIRE HATHAWAY INC','Algo 1','Algo 2',\n",
    "                         'Daily Returns SP500', 'My Portfolio']\n",
    "allportfolios.head()"
   ]
  },
  {
   "cell_type": "code",
   "execution_count": 134,
   "metadata": {},
   "outputs": [
    {
     "data": {
      "text/plain": [
       "SOROS FUND MANAGEMENT LLC      0\n",
       "PAULSON & CO INC               0\n",
       "TIGER GLOBAL MANAGEMENT LLC    0\n",
       "BERKSHIRE HATHAWAY INC         0\n",
       "Algo 1                         0\n",
       "Algo 2                         0\n",
       "Daily Returns SP500            0\n",
       "My Portfolio                   0\n",
       "dtype: int64"
      ]
     },
     "execution_count": 134,
     "metadata": {},
     "output_type": "execute_result"
    }
   ],
   "source": [
    "# Only compare dates where return data exists for all the stocks (drop NaNs)\n",
    "allportfolios.dropna(inplace=True)\n",
    "allportfolios.isnull().sum()\n",
    "# YOUR CODE HERE"
   ]
  },
  {
   "cell_type": "markdown",
   "metadata": {},
   "source": [
    "## Re-run the performance and risk analysis with your portfolio to see how it compares to the others"
   ]
  },
  {
   "cell_type": "code",
   "execution_count": 136,
   "metadata": {},
   "outputs": [
    {
     "data": {
      "text/plain": [
       "SOROS FUND MANAGEMENT LLC      0.109829\n",
       "PAULSON & CO INC               0.100837\n",
       "TIGER GLOBAL MANAGEMENT LLC    0.304888\n",
       "BERKSHIRE HATHAWAY INC         0.164623\n",
       "Algo 1                         0.079507\n",
       "Algo 2                         0.106449\n",
       "Daily Returns SP500            0.095543\n",
       "My Portfolio                   0.163601\n",
       "dtype: float64"
      ]
     },
     "execution_count": 136,
     "metadata": {},
     "output_type": "execute_result"
    }
   ],
   "source": [
    "# Risk (annualized STD)\n",
    "allportfolios.std()*(math.sqrt(252))\n",
    "# YOUR CODE HERE"
   ]
  },
  {
   "cell_type": "code",
   "execution_count": 140,
   "metadata": {},
   "outputs": [
    {
     "data": {
      "text/plain": [
       "<matplotlib.axes._subplots.AxesSubplot at 0x1a02034c1c8>"
      ]
     },
     "execution_count": 140,
     "metadata": {},
     "output_type": "execute_result"
    },
    {
     "data": {
      "image/png": "[encoded data removed]",
      "text/plain": [
       "<Figure size 1080x720 with 1 Axes>"
      ]
     },
     "metadata": {
      "needs_background": "light"
     },
     "output_type": "display_data"
    }
   ],
   "source": [
    "# Rolling\n",
    "allportfolios.rolling(window=21).std().plot(figsize=(15,10))\n",
    "# YOUR CODE HERE"
   ]
  },
  {
   "cell_type": "code",
   "execution_count": 142,
   "metadata": {},
   "outputs": [
    {
     "name": "stdout",
     "output_type": "stream",
     "text": [
      "The Beta for My Portfolio is 0.3901640650508623\n"
     ]
    }
   ],
   "source": [
    "# Beta\n",
    "variance_my = myportfolio_weighted_returns.var()\n",
    "covariance_my = myportfolio_weighted_returns.cov(daily_returns_sp500['Daily Returns SP500'])\n",
    "my_beta = covariance_my / variance_my\n",
    "print(f'The Beta for My Portfolio is {my_beta}')\n",
    "# YOUR CODE HERE"
   ]
  },
  {
   "cell_type": "code",
   "execution_count": 144,
   "metadata": {},
   "outputs": [
    {
     "data": {
      "text/plain": [
       "-1.99831660786584"
      ]
     },
     "execution_count": 144,
     "metadata": {},
     "output_type": "execute_result"
    }
   ],
   "source": [
    "# Annualized Sharpe Ratios\n",
    "sharpe_ratio_myportfolio= (252**0.5)*(myportfolio_weighted_returns.mean()/myportfolio_weighted_returns.std())\n",
    "sharpe_ratio_myportfolio\n",
    "# YOUR CODE HERE"
   ]
  },
  {
   "cell_type": "code",
   "execution_count": 147,
   "metadata": {},
   "outputs": [
    {
     "data": {
      "text/plain": [
       "<BarContainer object of 7 artists>"
      ]
     },
     "execution_count": 147,
     "metadata": {},
     "output_type": "execute_result"
    },
    {
     "data": {
      "image/png": "[encoded data removed]",
      "text/plain": [
       "<Figure size 432x288 with 1 Axes>"
      ]
     },
     "metadata": {
      "needs_background": "light"
     },
     "output_type": "display_data"
    }
   ],
   "source": [
    "# Visualize the sharpe ratios as a bar plot\n",
    "plt.bar(['SOROS FUND MANAGEMENT LLC','PAULSON & CO INC','TIGER GLOBAL MANAGEMENT LLC','BERKSHIRE HATHAWAY INC','Algo 1','Algo 2','My Portfolio'],\n",
    "        [sharpe_ratio_soros, sharpe_ratio_paulson, sharpe_ratio_tiger,sharpe_ratio_berkshire, sharpe_ratio_algo1, sharpe_ratio_algo2, sharpe_ratio_myportfolio], \n",
    "        width = 0.9)\n",
    "# YOUR CODE HERE"
   ]
  },
  {
   "cell_type": "markdown",
   "metadata": {},
   "source": [
    "## Include correlation analysis to determine which stocks (if any) are correlated"
   ]
  },
  {
   "cell_type": "code",
   "execution_count": 150,
   "metadata": {},
   "outputs": [
    {
     "data": {
      "text/html": [
       "<div>\n",
       "<style scoped>\n",
       "    .dataframe tbody tr th:only-of-type {\n",
       "        vertical-align: middle;\n",
       "    }\n",
       "\n",
       "    .dataframe tbody tr th {\n",
       "        vertical-align: top;\n",
       "    }\n",
       "\n",
       "    .dataframe thead th {\n",
       "        text-align: right;\n",
       "    }\n",
       "</style>\n",
       "<table border=\"1\" class=\"dataframe\">\n",
       "  <thead>\n",
       "    <tr style=\"text-align: right;\">\n",
       "      <th></th>\n",
       "      <th>Airbus Close</th>\n",
       "      <th>Raytheon Close</th>\n",
       "      <th>William Sonoma Close</th>\n",
       "    </tr>\n",
       "  </thead>\n",
       "  <tbody>\n",
       "    <tr>\n",
       "      <th>Airbus Close</th>\n",
       "      <td>1.000000</td>\n",
       "      <td>0.616069</td>\n",
       "      <td>0.747783</td>\n",
       "    </tr>\n",
       "    <tr>\n",
       "      <th>Raytheon Close</th>\n",
       "      <td>0.616069</td>\n",
       "      <td>1.000000</td>\n",
       "      <td>0.793906</td>\n",
       "    </tr>\n",
       "    <tr>\n",
       "      <th>William Sonoma Close</th>\n",
       "      <td>0.747783</td>\n",
       "      <td>0.793906</td>\n",
       "      <td>1.000000</td>\n",
       "    </tr>\n",
       "  </tbody>\n",
       "</table>\n",
       "</div>"
      ],
      "text/plain": [
       "                      Airbus Close  Raytheon Close  William Sonoma Close\n",
       "Airbus Close              1.000000        0.616069              0.747783\n",
       "Raytheon Close            0.616069        1.000000              0.793906\n",
       "William Sonoma Close      0.747783        0.793906              1.000000"
      ]
     },
     "execution_count": 150,
     "metadata": {},
     "output_type": "execute_result"
    }
   ],
   "source": [
    "# YOUR CODE HERE\n",
    "mystock_correlation = myportfolio.corr()\n",
    "mystock_correlation"
   ]
  },
  {
   "cell_type": "code",
   "execution_count": 154,
   "metadata": {},
   "outputs": [
    {
     "data": {
      "text/plain": [
       "<matplotlib.axes._subplots.AxesSubplot at 0x1a0207a0ec8>"
      ]
     },
     "execution_count": 154,
     "metadata": {},
     "output_type": "execute_result"
    },
    {
     "data": {
      "image/png": "[encoded data removed]",
      "text/plain": [
       "<Figure size 432x288 with 2 Axes>"
      ]
     },
     "metadata": {
      "needs_background": "light"
     },
     "output_type": "display_data"
    }
   ],
   "source": [
    "sns.heatmap(mystock_correlation, vmin=0, vmax = 1)"
   ]
  },
  {
   "cell_type": "code",
   "execution_count": null,
   "metadata": {},
   "outputs": [],
   "source": []
  }
 ],
 "metadata": {
  "file_extension": ".py",
  "kernel_info": {
   "name": "dev"
  },
  "kernelspec": {
   "display_name": "Python 3",
   "language": "python",
   "name": "python3"
  },
  "language_info": {
   "codemirror_mode": {
    "name": "ipython",
    "version": 3
   },
   "file_extension": ".py",
   "mimetype": "text/x-python",
   "name": "python",
   "nbconvert_exporter": "python",
   "pygments_lexer": "ipython3",
   "version": "3.7.4"
  },
  "mimetype": "text/x-python",
  "name": "python",
  "npconvert_exporter": "python",
  "nteract": {
   "version": "0.12.3"
  },
  "pygments_lexer": "ipython3",
  "version": 3
 },
 "nbformat": 4,
 "nbformat_minor": 4
}
